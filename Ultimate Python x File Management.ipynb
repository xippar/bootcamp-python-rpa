{
 "cells": [
  {
   "cell_type": "markdown",
   "metadata": {},
   "source": [
    "checkpoint 3 ดึงไฟล์ในโฟลเดอร์ที่จะทำงานด้วย"
   ]
  },
  {
   "cell_type": "code",
   "execution_count": 1,
   "metadata": {},
   "outputs": [],
   "source": [
    "import os"
   ]
  },
  {
   "cell_type": "code",
   "execution_count": 2,
   "metadata": {},
   "outputs": [],
   "source": [
    "folder_path = r\"C:\\Users\\acer\\Desktop\\bootcamp 24 class 3\\file_management\\file_management\""
   ]
  },
  {
   "cell_type": "code",
   "execution_count": 4,
   "metadata": {},
   "outputs": [
    {
     "data": {
      "text/plain": [
       "['blank_folder',\n",
       " 'Bootcamp 19.png',\n",
       " 'Condo list.xlsx',\n",
       " 'new_folder',\n",
       " 'non_mask_to_mask_prediction.gif',\n",
       " 'old_folder']"
      ]
     },
     "execution_count": 4,
     "metadata": {},
     "output_type": "execute_result"
    }
   ],
   "source": [
    "file_list = os.listdir(folder_path)\n",
    "file_list"
   ]
  },
  {
   "cell_type": "code",
   "execution_count": 18,
   "metadata": {},
   "outputs": [
    {
     "data": {
      "text/plain": [
       "'.png'"
      ]
     },
     "execution_count": 18,
     "metadata": {},
     "output_type": "execute_result"
    }
   ],
   "source": [
    "file_list[1][-4:]"
   ]
  },
  {
   "cell_type": "markdown",
   "metadata": {},
   "source": [
    "checkpoint 4 ดึงประเภทไฟล์จาก ไฟล์ตัวอย่าง"
   ]
  },
  {
   "cell_type": "code",
   "execution_count": 10,
   "metadata": {},
   "outputs": [
    {
     "data": {
      "text/plain": [
       "'Bootcamp 19.png'"
      ]
     },
     "execution_count": 10,
     "metadata": {},
     "output_type": "execute_result"
    }
   ],
   "source": [
    "file = file_list[1]\n",
    "file"
   ]
  },
  {
   "cell_type": "code",
   "execution_count": 24,
   "metadata": {},
   "outputs": [
    {
     "data": {
      "text/plain": [
       "('Bootcamp 19', '.png')"
      ]
     },
     "execution_count": 24,
     "metadata": {},
     "output_type": "execute_result"
    }
   ],
   "source": [
    "os.path.splitext(file)"
   ]
  },
  {
   "cell_type": "markdown",
   "metadata": {},
   "source": [
    "checkpoint 5 ดึงประเภทไฟล์จาก ไฟล์ตัวอย่าง"
   ]
  },
  {
   "cell_type": "code",
   "execution_count": 10,
   "metadata": {},
   "outputs": [
    {
     "data": {
      "text/plain": [
       "'Bootcamp 19.png'"
      ]
     },
     "execution_count": 10,
     "metadata": {},
     "output_type": "execute_result"
    }
   ],
   "source": [
    "file = file_list[1]\n",
    "file"
   ]
  },
  {
   "cell_type": "code",
   "execution_count": 23,
   "metadata": {},
   "outputs": [
    {
     "data": {
      "text/plain": [
       "'.png'"
      ]
     },
     "execution_count": 23,
     "metadata": {},
     "output_type": "execute_result"
    }
   ],
   "source": [
    "file_type = os.path.splitext(file)[1]\n",
    "file_type"
   ]
  },
  {
   "cell_type": "markdown",
   "metadata": {},
   "source": [
    "checkpoint 6 ดึงประเภทไฟล์ ลบจุด"
   ]
  },
  {
   "cell_type": "code",
   "execution_count": 10,
   "metadata": {},
   "outputs": [
    {
     "data": {
      "text/plain": [
       "'Bootcamp 19.png'"
      ]
     },
     "execution_count": 10,
     "metadata": {},
     "output_type": "execute_result"
    }
   ],
   "source": [
    "file = file_list[1]\n",
    "file"
   ]
  },
  {
   "cell_type": "code",
   "execution_count": 27,
   "metadata": {
    "scrolled": true
   },
   "outputs": [
    {
     "data": {
      "text/plain": [
       "'png'"
      ]
     },
     "execution_count": 27,
     "metadata": {},
     "output_type": "execute_result"
    }
   ],
   "source": [
    "file_type = os.path.splitext(file)[1]\n",
    "file_type = file_type[1:]\n",
    "file_type"
   ]
  },
  {
   "cell_type": "markdown",
   "metadata": {},
   "source": [
    "checkpoint 7 เก็บเฉพาะประเภทไฟล์"
   ]
  },
  {
   "cell_type": "code",
   "execution_count": 42,
   "metadata": {},
   "outputs": [],
   "source": [
    "file_type_set = set()\n",
    "if file_type == '':\n",
    "    pass\n",
    "else:\n",
    "    file_type_set.add(file_type)"
   ]
  },
  {
   "cell_type": "code",
   "execution_count": 43,
   "metadata": {},
   "outputs": [
    {
     "data": {
      "text/plain": [
       "{'png'}"
      ]
     },
     "execution_count": 43,
     "metadata": {},
     "output_type": "execute_result"
    }
   ],
   "source": [
    "file_type_set"
   ]
  },
  {
   "cell_type": "markdown",
   "metadata": {},
   "source": [
    "checkpoint 9 ใช้ for loop เพื่อทำซ้ำกับทุกไฟล์"
   ]
  },
  {
   "cell_type": "code",
   "execution_count": 73,
   "metadata": {},
   "outputs": [],
   "source": [
    "file_type_set = set()"
   ]
  },
  {
   "cell_type": "code",
   "execution_count": 67,
   "metadata": {},
   "outputs": [],
   "source": [
    "def get_file_type(file,file_type_set):\n",
    "    file_type = os.path.splitext(file)[1]\n",
    "    file_type = file_type[1:]\n",
    "    if file_type == '':\n",
    "        pass\n",
    "    else:\n",
    "        file_type_set.add(file_type)\n",
    "    return file_type_set"
   ]
  },
  {
   "cell_type": "code",
   "execution_count": 74,
   "metadata": {},
   "outputs": [],
   "source": [
    "for file in file_list:\n",
    "    get_file_type(file,file_type_set)"
   ]
  },
  {
   "cell_type": "code",
   "execution_count": 75,
   "metadata": {},
   "outputs": [
    {
     "data": {
      "text/plain": [
       "{'gif', 'png', 'xlsx'}"
      ]
     },
     "execution_count": 75,
     "metadata": {},
     "output_type": "execute_result"
    }
   ],
   "source": [
    "file_type_set"
   ]
  },
  {
   "cell_type": "markdown",
   "metadata": {},
   "source": [
    "checkpoint 10 สรุปทุกคำสั่งเพื่อดึงประเภทไฟล์"
   ]
  },
  {
   "cell_type": "code",
   "execution_count": 80,
   "metadata": {},
   "outputs": [],
   "source": [
    "import os\n",
    "folder_path = r\"C:\\Users\\acer\\Desktop\\bootcamp 24 class 3\\file_management\\file_management\"\n",
    "file_type_set = set()"
   ]
  },
  {
   "cell_type": "code",
   "execution_count": 81,
   "metadata": {},
   "outputs": [],
   "source": [
    "def get_file_type(file,file_type_set):\n",
    "    file_type = os.path.splitext(file)[1]\n",
    "    file_type = file_type[1:]\n",
    "    if file_type == '':\n",
    "        pass\n",
    "    else:\n",
    "        file_type_set.add(file_type)\n",
    "    return file_type_set"
   ]
  },
  {
   "cell_type": "code",
   "execution_count": 82,
   "metadata": {},
   "outputs": [],
   "source": [
    "file_list = os.listdir(folder_path)\n",
    "for file in file_list:\n",
    "    get_file_type(file,file_type_set)"
   ]
  },
  {
   "cell_type": "code",
   "execution_count": 85,
   "metadata": {
    "scrolled": false
   },
   "outputs": [
    {
     "data": {
      "text/plain": [
       "{'gif', 'png', 'xlsx'}"
      ]
     },
     "execution_count": 85,
     "metadata": {},
     "output_type": "execute_result"
    }
   ],
   "source": [
    "file_type_set"
   ]
  },
  {
   "cell_type": "markdown",
   "metadata": {},
   "source": [
    "checkpoint 11 สร้าง path ของโฟลเดอร์ที่ต้องการสร้าง"
   ]
  },
  {
   "cell_type": "code",
   "execution_count": 90,
   "metadata": {},
   "outputs": [
    {
     "data": {
      "text/plain": [
       "'C:\\\\Users\\\\acer\\\\Desktop\\\\bootcamp 24 class 3\\\\file_management\\\\file_management'"
      ]
     },
     "execution_count": 90,
     "metadata": {},
     "output_type": "execute_result"
    }
   ],
   "source": [
    "folder_path"
   ]
  },
  {
   "cell_type": "code",
   "execution_count": 87,
   "metadata": {},
   "outputs": [
    {
     "data": {
      "text/plain": [
       "'gif'"
      ]
     },
     "execution_count": 87,
     "metadata": {},
     "output_type": "execute_result"
    }
   ],
   "source": [
    "file_type = 'gif'\n",
    "file_type"
   ]
  },
  {
   "cell_type": "code",
   "execution_count": 91,
   "metadata": {
    "scrolled": false
   },
   "outputs": [
    {
     "data": {
      "text/plain": [
       "'C:\\\\Users\\\\acer\\\\Desktop\\\\bootcamp 24 class 3\\\\file_management\\\\file_management\\\\gif'"
      ]
     },
     "execution_count": 91,
     "metadata": {},
     "output_type": "execute_result"
    }
   ],
   "source": [
    "type_folder_path = os.path.join(folder_path,file_type)\n",
    "type_folder_path"
   ]
  },
  {
   "cell_type": "markdown",
   "metadata": {},
   "source": [
    "checkpoint 12 สร้างโฟลเดอร์ให้เกิดขึ้น"
   ]
  },
  {
   "cell_type": "code",
   "execution_count": 93,
   "metadata": {},
   "outputs": [
    {
     "ename": "FileExistsError",
     "evalue": "[WinError 183] Cannot create a file when that file already exists: 'C:\\\\Users\\\\acer\\\\Desktop\\\\bootcamp 24 class 3\\\\file_management\\\\file_management\\\\gif'",
     "output_type": "error",
     "traceback": [
      "\u001b[1;31m---------------------------------------------------------------------------\u001b[0m",
      "\u001b[1;31mFileExistsError\u001b[0m                           Traceback (most recent call last)",
      "\u001b[1;32m<ipython-input-93-cb676de12895>\u001b[0m in \u001b[0;36m<module>\u001b[1;34m\u001b[0m\n\u001b[1;32m----> 1\u001b[1;33m \u001b[0mos\u001b[0m\u001b[1;33m.\u001b[0m\u001b[0mmkdir\u001b[0m\u001b[1;33m(\u001b[0m\u001b[0mtype_folder_path\u001b[0m\u001b[1;33m)\u001b[0m\u001b[1;33m\u001b[0m\u001b[1;33m\u001b[0m\u001b[0m\n\u001b[0m",
      "\u001b[1;31mFileExistsError\u001b[0m: [WinError 183] Cannot create a file when that file already exists: 'C:\\\\Users\\\\acer\\\\Desktop\\\\bootcamp 24 class 3\\\\file_management\\\\file_management\\\\gif'"
     ]
    }
   ],
   "source": [
    "os.mkdir(type_folder_path)"
   ]
  },
  {
   "cell_type": "markdown",
   "metadata": {},
   "source": [
    "checkpoint 13 try except กัน error สร้างโฟลเดอร์ทับ"
   ]
  },
  {
   "cell_type": "code",
   "execution_count": 102,
   "metadata": {},
   "outputs": [],
   "source": [
    "try:\n",
    "    os.mkdir(type_folder_path)\n",
    "except FileExistsError:\n",
    "    pass"
   ]
  },
  {
   "cell_type": "markdown",
   "metadata": {},
   "source": [
    "checkpoint 14 for loop สร้างทุกโฟลเดอร์"
   ]
  },
  {
   "cell_type": "code",
   "execution_count": 103,
   "metadata": {
    "scrolled": false
   },
   "outputs": [
    {
     "data": {
      "text/plain": [
       "{'gif', 'png', 'xlsx'}"
      ]
     },
     "execution_count": 103,
     "metadata": {},
     "output_type": "execute_result"
    }
   ],
   "source": [
    "file_type_set"
   ]
  },
  {
   "cell_type": "code",
   "execution_count": 104,
   "metadata": {},
   "outputs": [],
   "source": [
    "for file_type in file_type_set:\n",
    "    type_folder_path = os.path.join(folder_path,file_type)\n",
    "    try:\n",
    "        os.mkdir(type_folder_path)\n",
    "    except FileExistsError:\n",
    "        pass"
   ]
  },
  {
   "cell_type": "markdown",
   "metadata": {},
   "source": [
    "checkpoint 15 คำสั่งสร้างโฟลเดอร์"
   ]
  },
  {
   "cell_type": "code",
   "execution_count": 105,
   "metadata": {},
   "outputs": [],
   "source": [
    "def make_folder(folder_path,file_type):\n",
    "    type_folder_path = os.path.join(folder_path,file_type)\n",
    "    try:\n",
    "        os.mkdir(type_folder_path)\n",
    "    except FileExistsError:\n",
    "        pass"
   ]
  },
  {
   "cell_type": "code",
   "execution_count": 106,
   "metadata": {},
   "outputs": [
    {
     "data": {
      "text/plain": [
       "'C:\\\\Users\\\\acer\\\\Desktop\\\\bootcamp 24 class 3\\\\file_management\\\\file_management'"
      ]
     },
     "execution_count": 106,
     "metadata": {},
     "output_type": "execute_result"
    }
   ],
   "source": [
    "folder_path"
   ]
  },
  {
   "cell_type": "code",
   "execution_count": 107,
   "metadata": {},
   "outputs": [
    {
     "data": {
      "text/plain": [
       "{'gif', 'png', 'xlsx'}"
      ]
     },
     "execution_count": 107,
     "metadata": {},
     "output_type": "execute_result"
    }
   ],
   "source": [
    "file_type_set"
   ]
  },
  {
   "cell_type": "code",
   "execution_count": 108,
   "metadata": {},
   "outputs": [],
   "source": [
    "for file_type in file_type_set:\n",
    "    make_folder(folder_path,file_type)"
   ]
  },
  {
   "cell_type": "markdown",
   "metadata": {},
   "source": [
    "checkpoint 16 รวมคำสั่งจนถึงการสร้างโฟลเดอร์"
   ]
  },
  {
   "cell_type": "code",
   "execution_count": 109,
   "metadata": {},
   "outputs": [],
   "source": [
    "import os\n",
    "folder_path = r\"C:\\Users\\acer\\Desktop\\bootcamp 24 class 3\\file_management\\file_management\"\n",
    "file_type_set = set()"
   ]
  },
  {
   "cell_type": "code",
   "execution_count": 110,
   "metadata": {},
   "outputs": [],
   "source": [
    "def get_file_type(file,file_type_set):\n",
    "    file_type = os.path.splitext(file)[1]\n",
    "    file_type = file_type[1:]\n",
    "    if file_type == '':\n",
    "        pass\n",
    "    else:\n",
    "        file_type_set.add(file_type)\n",
    "    return file_type_set\n",
    "\n",
    "def make_folder(folder_path,file_type):\n",
    "    type_folder_path = os.path.join(folder_path,file_type)\n",
    "    try:\n",
    "        os.mkdir(type_folder_path)\n",
    "    except FileExistsError:\n",
    "        pass"
   ]
  },
  {
   "cell_type": "code",
   "execution_count": 126,
   "metadata": {},
   "outputs": [],
   "source": [
    "file_list = os.listdir(folder_path)\n",
    "for file in file_list:\n",
    "    get_file_type(file,file_type_set)\n",
    "    \n",
    "for file_type in file_type_set:\n",
    "    make_folder(folder_path,file_type)"
   ]
  },
  {
   "cell_type": "markdown",
   "metadata": {},
   "source": [
    "checkpoint 17 สร้างที่อยู่ไฟล์ กับที่อยู่โฟลเดอร์เพื่อย้ายไฟล์"
   ]
  },
  {
   "cell_type": "code",
   "execution_count": 113,
   "metadata": {},
   "outputs": [
    {
     "data": {
      "text/plain": [
       "['blank_folder',\n",
       " 'Bootcamp 19.png',\n",
       " 'Condo list.xlsx',\n",
       " 'new_folder',\n",
       " 'non_mask_to_mask_prediction.gif',\n",
       " 'old_folder']"
      ]
     },
     "execution_count": 113,
     "metadata": {},
     "output_type": "execute_result"
    }
   ],
   "source": [
    "file_list"
   ]
  },
  {
   "cell_type": "code",
   "execution_count": 120,
   "metadata": {},
   "outputs": [
    {
     "data": {
      "text/plain": [
       "'C:\\\\Users\\\\acer\\\\Desktop\\\\bootcamp 24 class 3\\\\file_management\\\\file_management'"
      ]
     },
     "execution_count": 120,
     "metadata": {},
     "output_type": "execute_result"
    }
   ],
   "source": [
    "folder_path"
   ]
  },
  {
   "cell_type": "code",
   "execution_count": 133,
   "metadata": {},
   "outputs": [
    {
     "data": {
      "text/plain": [
       "'Bootcamp 19.png'"
      ]
     },
     "execution_count": 133,
     "metadata": {},
     "output_type": "execute_result"
    }
   ],
   "source": [
    "file = file_list[1]\n",
    "file"
   ]
  },
  {
   "cell_type": "code",
   "execution_count": 134,
   "metadata": {},
   "outputs": [
    {
     "data": {
      "text/plain": [
       "'C:\\\\Users\\\\acer\\\\Desktop\\\\bootcamp 24 class 3\\\\file_management\\\\file_management\\\\Bootcamp 19.png'"
      ]
     },
     "execution_count": 134,
     "metadata": {},
     "output_type": "execute_result"
    }
   ],
   "source": [
    "os.path.join(folder_path,file)"
   ]
  },
  {
   "cell_type": "code",
   "execution_count": 135,
   "metadata": {},
   "outputs": [
    {
     "data": {
      "text/plain": [
       "'C:\\\\Users\\\\acer\\\\Desktop\\\\bootcamp 24 class 3\\\\file_management\\\\file_management\\\\png'"
      ]
     },
     "execution_count": 135,
     "metadata": {},
     "output_type": "execute_result"
    }
   ],
   "source": [
    "file_type = os.path.splitext(file)[1]\n",
    "file_type = file_type[1:]\n",
    "os.path.join(folder_path,file_type)"
   ]
  },
  {
   "cell_type": "markdown",
   "metadata": {},
   "source": [
    "checkpoint 18 ย้ายไฟล์เข้าโฟลเดอร์"
   ]
  },
  {
   "cell_type": "code",
   "execution_count": 136,
   "metadata": {},
   "outputs": [
    {
     "data": {
      "text/plain": [
       "'C:\\\\Users\\\\acer\\\\Desktop\\\\bootcamp 24 class 3\\\\file_management\\\\file_management'"
      ]
     },
     "execution_count": 136,
     "metadata": {},
     "output_type": "execute_result"
    }
   ],
   "source": [
    "folder_path"
   ]
  },
  {
   "cell_type": "code",
   "execution_count": 138,
   "metadata": {},
   "outputs": [
    {
     "data": {
      "text/plain": [
       "'Bootcamp 19.png'"
      ]
     },
     "execution_count": 138,
     "metadata": {},
     "output_type": "execute_result"
    }
   ],
   "source": [
    "file"
   ]
  },
  {
   "cell_type": "code",
   "execution_count": 139,
   "metadata": {},
   "outputs": [
    {
     "data": {
      "text/plain": [
       "'png'"
      ]
     },
     "execution_count": 139,
     "metadata": {},
     "output_type": "execute_result"
    }
   ],
   "source": [
    "file_type"
   ]
  },
  {
   "cell_type": "code",
   "execution_count": 140,
   "metadata": {},
   "outputs": [],
   "source": [
    "current_path = os.path.join(folder_path,file)\n",
    "destination_path = os.path.join(folder_path,file_type)"
   ]
  },
  {
   "cell_type": "code",
   "execution_count": 141,
   "metadata": {},
   "outputs": [
    {
     "data": {
      "text/plain": [
       "'C:\\\\Users\\\\acer\\\\Desktop\\\\bootcamp 24 class 3\\\\file_management\\\\file_management\\\\png\\\\Bootcamp 19.png'"
      ]
     },
     "execution_count": 141,
     "metadata": {},
     "output_type": "execute_result"
    }
   ],
   "source": [
    "import shutil\n",
    "shutil.move(current_path,destination_path)"
   ]
  },
  {
   "cell_type": "markdown",
   "metadata": {},
   "source": [
    "checkpoint 19 เช็คว่าไฟล์มีอยู่ในโฟลเดอร์ไหม"
   ]
  },
  {
   "cell_type": "code",
   "execution_count": 147,
   "metadata": {},
   "outputs": [],
   "source": [
    "import shutil\n",
    "if os.path.exists(current_path):\n",
    "    shutil.move(current_path,destination_path)"
   ]
  },
  {
   "cell_type": "markdown",
   "metadata": {},
   "source": [
    "checkpoint 20 ทำงานกับเฉพาะไฟล์ ไม่ย้ายโฟลเดอร์"
   ]
  },
  {
   "cell_type": "code",
   "execution_count": 148,
   "metadata": {},
   "outputs": [
    {
     "data": {
      "text/plain": [
       "['blank_folder',\n",
       " 'Bootcamp 19.png',\n",
       " 'Condo list.xlsx',\n",
       " 'gif',\n",
       " 'new_folder',\n",
       " 'non_mask_to_mask_prediction.gif',\n",
       " 'old_folder',\n",
       " 'png',\n",
       " 'xlsx']"
      ]
     },
     "execution_count": 148,
     "metadata": {},
     "output_type": "execute_result"
    }
   ],
   "source": [
    "file_list"
   ]
  },
  {
   "cell_type": "code",
   "execution_count": 149,
   "metadata": {},
   "outputs": [],
   "source": [
    "file_type = ''"
   ]
  },
  {
   "cell_type": "code",
   "execution_count": 150,
   "metadata": {},
   "outputs": [],
   "source": [
    "if file_type == '':\n",
    "    pass\n",
    "else:\n",
    "    if os.path.exists(current_path):\n",
    "        shutil.move(current_path,destination_path)"
   ]
  },
  {
   "cell_type": "markdown",
   "metadata": {},
   "source": [
    "checkpoint 21 Module ย้ายโฟลเดอร์"
   ]
  },
  {
   "cell_type": "code",
   "execution_count": 152,
   "metadata": {},
   "outputs": [],
   "source": [
    "import os\n",
    "import shutil"
   ]
  },
  {
   "cell_type": "code",
   "execution_count": 153,
   "metadata": {},
   "outputs": [],
   "source": [
    "def get_file_type(file,file_type_set):\n",
    "    file_type = os.path.splitext(file)[1]\n",
    "    file_type = file_type[1:]\n",
    "    if file_type == '':\n",
    "        pass\n",
    "    else:\n",
    "        file_type_set.add(file_type)\n",
    "    return file_type_set\n",
    "\n",
    "def make_folder(folder_path,file_type):\n",
    "    type_folder_path = os.path.join(folder_path,file_type)\n",
    "    try:\n",
    "        os.mkdir(type_folder_path)\n",
    "    except FileExistsError:\n",
    "        pass\n",
    "\n",
    "def move_all_file(file_list,folder_path):\n",
    "    for file in file_list:\n",
    "    \n",
    "        file_type = os.path.splitext(file)[1]\n",
    "        file_type = file_type[1:]\n",
    "\n",
    "        current_path = os.path.join(folder_path,file)\n",
    "        destination_path = os.path.join(folder_path,file_type)\n",
    "\n",
    "        if file_type == '':\n",
    "            pass\n",
    "        else:\n",
    "            if os.path.exists(current_path):\n",
    "                shutil.move(current_path,destination_path)"
   ]
  },
  {
   "cell_type": "code",
   "execution_count": 155,
   "metadata": {},
   "outputs": [],
   "source": [
    "def main():\n",
    "    folder_path = r\"C:\\Users\\acer\\Desktop\\bootcamp 24 class 3\\file_management\\file_management\"\n",
    "    file_type_set = set()\n",
    "    file_list = os.listdir(folder_path)\n",
    "    for file in file_list:\n",
    "        get_file_type(file,file_type_set)\n",
    "\n",
    "    for file_type in file_type_set:\n",
    "        make_folder(folder_path,file_type)\n",
    "\n",
    "    move_all_file(file_list,folder_path)"
   ]
  },
  {
   "cell_type": "code",
   "execution_count": 156,
   "metadata": {},
   "outputs": [],
   "source": [
    "main()"
   ]
  }
 ],
 "metadata": {
  "kernelspec": {
   "display_name": "Python 3",
   "language": "python",
   "name": "python3"
  },
  "language_info": {
   "codemirror_mode": {
    "name": "ipython",
    "version": 3
   },
   "file_extension": ".py",
   "mimetype": "text/x-python",
   "name": "python",
   "nbconvert_exporter": "python",
   "pygments_lexer": "ipython3",
   "version": "3.7.7"
  }
 },
 "nbformat": 4,
 "nbformat_minor": 4
}
